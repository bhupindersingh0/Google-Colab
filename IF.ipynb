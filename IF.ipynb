{
  "nbformat": 4,
  "nbformat_minor": 0,
  "metadata": {
    "colab": {
      "provenance": [],
      "authorship_tag": "ABX9TyOP/F6W6zVelTgo+Mi+XvZB",
      "include_colab_link": true
    },
    "kernelspec": {
      "name": "python3",
      "display_name": "Python 3"
    },
    "language_info": {
      "name": "python"
    }
  },
  "cells": [
    {
      "cell_type": "markdown",
      "metadata": {
        "id": "view-in-github",
        "colab_type": "text"
      },
      "source": [
        "<a href=\"https://colab.research.google.com/github/bhupindersingh0/Google-Colab/blob/main/IF.ipynb\" target=\"_parent\"><img src=\"https://colab.research.google.com/assets/colab-badge.svg\" alt=\"Open In Colab\"/></a>"
      ]
    },
    {
      "cell_type": "code",
      "execution_count": 7,
      "metadata": {
        "colab": {
          "base_uri": "https://localhost:8080/"
        },
        "id": "YnM_OWytVkO9",
        "outputId": "0e7eeaab-e952-45ad-8704-a4aa70bc8650"
      },
      "outputs": [
        {
          "output_type": "stream",
          "name": "stdout",
          "text": [
            "Enter the day : monday\n",
            "weekday\n"
          ]
        }
      ],
      "source": [
        "Day = input(\"Enter the day : \")\n",
        "if Day == \"saturday\":\n",
        "     print(\"weekend\")\n",
        "elif Day == \"sunday\":\n",
        "     print(\"Weekend\")\n",
        "else :\n",
        "    print(\"weekday\")\n"
      ]
    },
    {
      "cell_type": "code",
      "source": [
        "Pant = 1500\n",
        "QuantityP = int(input(\"Quantity of Pant : \"))\n",
        "Total =Pant * QuantityP\n",
        "Shirt = 1200\n",
        "QuantityS = int(input(\"Quantity of Shirt : \"))\n",
        "Total2 =Shirt * QuantityS\n",
        "Belt = 600\n",
        "QuantityB = int(input(\"Quantity of Belt: \"))\n",
        "Total3 =Belt * QuantityB\n",
        "Shoe = 2500\n",
        "QuantityS = int(input(\"Quantity of Shoe : \"))\n",
        "Total4 =Shoe * QuantityS\n",
        "\n",
        "\n",
        "\n",
        "# Calculate discounts\n",
        "\n",
        "\n",
        "Discount12 = Total * 10 / 100\n",
        "Discount22 = Total2 * 20 / 100\n",
        "Discount23 = Total3 * 15 /100\n",
        "Discount23 = Total3 * 5 /100\n",
        "\n",
        "\n",
        "\n",
        "# Calculate the total cart price after discounts\n",
        "Cart = (Total - Discount12) + (Total2 - Discount22) + (Total3 - Discount23) + (Total4 - Discount22)\n",
        "Cart1 = Total + Total2 + Total3 + Total4\n",
        "\n",
        "\n",
        "Couponcode = input(\"Apply Coupon Code : \")\n",
        "if Couponcode == \"Newten\" :\n",
        "  print(\"Rs : \",Cart)\n",
        "else :\n",
        "  print(\"Rs : \",Cart1)\n",
        "\n",
        "\n",
        "\n",
        "\n",
        "\n",
        "print(\"Address\")\n",
        "\n",
        "House = input(\"House No. :\")\n",
        "Locality = input(\"Locality : \")\n",
        "City = input(\"City : \")\n",
        "District = input(\"District : \")\n",
        "Pincode = int(input(\"Pincode : \"))\n",
        "State = input(\"State : \")\n",
        "Mobile_No = int(input(\"Mobile No. : \"))\n",
        "Email_id = input(\"Email ID :\")"
      ],
      "metadata": {
        "id": "_D76yE-Z4Jm_"
      },
      "execution_count": null,
      "outputs": []
    },
    {
      "cell_type": "code",
      "source": [
        "print(\"Welcome to Bank\")\n",
        "print(\"1.Deposit\")\n",
        "print(\"2.Withdraw\")\n",
        "print(\"3.Know your balance\")\n",
        "\n",
        "Opening_balance = 50000\n",
        "print(\"Opening_balance : \",Opening_balance)\n",
        "\n",
        "choose = int(input(\"Choose the option : \"))\n",
        "\n",
        "if choose == 1:\n",
        "  Deposit = int(input(\"Deposit Amt. : \"))\n",
        "  Bal1 = Opening_balance + Deposit\n",
        "  print(\"Closing Balance : \",Bal1)\n",
        "\n",
        "elif choose == 2:\n",
        "  Withdraw = int(input(\"Withdraw Amt. : \"))\n",
        "  Bal2 = Opening_balance - Withdraw\n",
        "  print(\"Closing Balance : \",Bal2)\n",
        "\n",
        "elif choose == 3:\n",
        "  print(\"Closing Balance\",Opening_balance)\n",
        "\n",
        "else:\n",
        "  print(\"Invalid option\")"
      ],
      "metadata": {
        "colab": {
          "base_uri": "https://localhost:8080/"
        },
        "id": "0qU5skqo4Ml7",
        "outputId": "d541bff3-2fb0-4789-a74e-3c9e259132f6"
      },
      "execution_count": 18,
      "outputs": [
        {
          "output_type": "stream",
          "name": "stdout",
          "text": [
            "Welcome to Bank\n",
            "1.Deposit\n",
            "2.Withdraw\n",
            "3.Know your balance\n",
            "Opening_balance :  50000\n",
            "Choose the option : 2\n",
            "Withdraw Amt. : 12000\n",
            "Closing Balance :  38000\n"
          ]
        }
      ]
    },
    {
      "cell_type": "code",
      "source": [
        "print(\"Welcome to Bank\")\n",
        "print(\"1.Deposit\")\n",
        "print(\"2.Withdraw\")\n",
        "print(\"3.Know your balance\")\n",
        "\n",
        "Opening_balance = 50000\n",
        "print(\"Opening_balance : \",Opening_balance)\n",
        "\n",
        "print(\"Please Enter Your Details\")\n",
        "Date = int(input(\"Date : \"))\n",
        "Account_no = int(input(\"Account No. : \"))\n",
        "Name = input(\"A/c Holder Name : \")\n",
        "\n",
        "choose = int(input(\"Choose the option : \"))\n",
        "\n",
        "Amt1 = int(input(\"Fill Amt. : \"))\n",
        "Payee_sign = input(\"Payee's Signnature : \")\n",
        "if choose == 1:\n",
        "  #Deposit = int(input(\"Deposit Amt. : \"))\n",
        "  Bal1 = Opening_balance + Amt1\n",
        "  print(\"Closing Balance : \",Bal1)\n",
        "\n",
        "elif choose == 2:\n",
        "  #Withdraw = int(input(\"Withdraw Amt. : \"))\n",
        "  Bal2 = Opening_balance - Amt1\n",
        "  print(\"Closing Balance : \",Bal2)\n",
        "\n",
        "elif choose == 3:\n",
        "  print(\"Closing Balance\",Opening_balance)\n",
        "\n",
        "else:\n",
        "  print(\"Invalid option\")"
      ],
      "metadata": {
        "colab": {
          "base_uri": "https://localhost:8080/"
        },
        "id": "VxUU5LEM7i-F",
        "outputId": "c889c396-724d-4176-e4c2-e1fb8db7c471"
      },
      "execution_count": 1,
      "outputs": [
        {
          "output_type": "stream",
          "name": "stdout",
          "text": [
            "Welcome to Bank\n",
            "1.Deposit\n",
            "2.Withdraw\n",
            "3.Know your balance\n",
            "Opening_balance :  50000\n",
            "Please Enter Your Details\n",
            "Date : 1205062\n",
            "Account No. : 14361000009060\n",
            "A/c Holder Name : Bhupinder Singh\n",
            "Choose the option : 3\n",
            "Fill Amt. : 5455\n",
            "Payee's Signnature : bhupinder singh\n",
            "Closing Balance 50000\n"
          ]
        }
      ]
    },
    {
      "cell_type": "code",
      "source": [
        "gender = input(\" Enter your Gender : \")\n",
        "age =int(input(\" Enter your Age : \"))\n",
        "\n",
        "if gender == \"Male\" :\n",
        "  if age <=20:\n",
        "    print(\"Hotel assigned A\")\n",
        "  else :\n",
        "    print (\"Hotel assigned B\")\n",
        "elif gender == \"Female\" :\n",
        "  if age <=20:\n",
        "    print(\"Hotel assigned I\")\n",
        "  else :\n",
        "    print (\"Hotel assigned II\")\n",
        "else:\n",
        "  print(\"Hotel not assigned\")\n"
      ],
      "metadata": {
        "colab": {
          "base_uri": "https://localhost:8080/"
        },
        "id": "bWg4PAlSrC3t",
        "outputId": "a170107f-32b5-4c6b-ec9a-f363c539e027"
      },
      "execution_count": 5,
      "outputs": [
        {
          "output_type": "stream",
          "name": "stdout",
          "text": [
            " Enter your Gender : Female\n",
            " Enter your Age : 12\n",
            "Hotel assigned I\n"
          ]
        }
      ]
    },
    {
      "cell_type": "code",
      "source": [
        "from __future__ import division\n",
        "print(\"Reportcard\")\n",
        "marks = int(input(\"Enter your marks :\"))\n",
        "if marks >=60:\n",
        "   print(\"First Division\")\n",
        "   if marks >= 90:\n",
        "      print(\"Execllenet\")\n",
        "   elif marks >= 80:\n",
        "       print(\"Very Good\")\n",
        "   elif marks >= 70:\n",
        "       print(\" Good\")\n",
        "   elif marks >= 60:\n",
        "       print(\"Better\")\n",
        "if marks <=60:\n",
        "  print(\"Second Division\")\n",
        "  if marks <= 60:\n",
        "       print(\"You need to do hardwork\")\n"
      ],
      "metadata": {
        "colab": {
          "base_uri": "https://localhost:8080/"
        },
        "id": "4zGOq2CyuAEX",
        "outputId": "af82927e-1c37-4df2-b20e-8c112c37fcd9"
      },
      "execution_count": 13,
      "outputs": [
        {
          "output_type": "stream",
          "name": "stdout",
          "text": [
            "Reportcard\n",
            "Enter your marks :55\n",
            "Second Division\n",
            "You need to do hardwork\n"
          ]
        }
      ]
    },
    {
      "cell_type": "code",
      "source": [
        "print(\"Train System\")\n",
        "print(\"1.First class\")\n",
        "print(\"2.Second class\")\n",
        "print(\"3.Third class\")\n",
        "\n",
        "Chose = int(input(\"Choose the class : \"))\n",
        "\n",
        "if Chose == 1:\n",
        "  print(\"Your ticket Booked in First class :\")\n",
        "elif Chose == 2:\n",
        "    print(\"Your ticket Booked in Second class : \")\n",
        "elif Chose == 3:\n",
        "    print(\"Your ticket Booked in Third class : \")\n",
        "    age = int(input(\"Choose the Age\"))\n",
        "    if age >=60:\n",
        "      print(\"Lower berth\")\n",
        "    elif age >=30:\n",
        "      print(\"Middle berth\")\n",
        "    else :\n",
        "      print(\"Upper Berth\")\n",
        "else :\n",
        "  print(\"You invalid option\")\n"
      ],
      "metadata": {
        "colab": {
          "base_uri": "https://localhost:8080/"
        },
        "id": "yT73tlV7w_eW",
        "outputId": "cc7929d9-449e-4435-86f4-e322be11af9b"
      },
      "execution_count": 24,
      "outputs": [
        {
          "output_type": "stream",
          "name": "stdout",
          "text": [
            "Train System\n",
            "1.First class\n",
            "2.Second class\n",
            "3.Third class\n",
            "Choose the class : 4\n",
            "You invalid option\n"
          ]
        }
      ]
    },
    {
      "cell_type": "code",
      "source": [],
      "metadata": {
        "id": "mwSLo-cc_AK2"
      },
      "execution_count": null,
      "outputs": []
    }
  ]
}