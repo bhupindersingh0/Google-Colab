{
  "nbformat": 4,
  "nbformat_minor": 0,
  "metadata": {
    "colab": {
      "provenance": [],
      "authorship_tag": "ABX9TyNHhKp/AhBcDrHQt8VR6DCe",
      "include_colab_link": true
    },
    "kernelspec": {
      "name": "python3",
      "display_name": "Python 3"
    },
    "language_info": {
      "name": "python"
    }
  },
  "cells": [
    {
      "cell_type": "markdown",
      "metadata": {
        "id": "view-in-github",
        "colab_type": "text"
      },
      "source": [
        "<a href=\"https://colab.research.google.com/github/bhupindersingh0/Google-Colab/blob/main/DATATYPES.ipynb\" target=\"_parent\"><img src=\"https://colab.research.google.com/assets/colab-badge.svg\" alt=\"Open In Colab\"/></a>"
      ]
    },
    {
      "cell_type": "code",
      "execution_count": 13,
      "metadata": {
        "colab": {
          "base_uri": "https://localhost:8080/"
        },
        "id": "G-KFO11J5KYk",
        "outputId": "5957ddcb-2c06-4e89-ca38-863890e77c7d"
      },
      "outputs": [
        {
          "output_type": "stream",
          "name": "stdout",
          "text": [
            "enter the first number : 100\n",
            "enter the second number : 50\n",
            "Sum of two number :  150\n",
            "Subtraction of two number :  50\n",
            "Multiplication of two number :  5000\n",
            "Division of two number :  2.0\n",
            "Remainder of two number :  0\n"
          ]
        }
      ],
      "source": [
        "\n",
        "first_number = int(input(\"enter the first number : \"))\n",
        "\n",
        "Second_number =  int(input(\"enter the second number : \"))\n",
        "add = first_number + Second_number\n",
        "sub = first_number - Second_number\n",
        "Multiply = first_number * Second_number\n",
        "Divide = first_number / Second_number\n",
        "remainder = first_number % Second_number\n",
        "print(\"Sum of two number : \",add  ,)\n",
        "print(\"Subtraction of two number : \",sub)\n",
        "print(\"Multiplication of two number : \",Multiply)\n",
        "print(\"Division of two number : \",Divide)\n",
        "print(\"Remainder of two number : \",remainder)\n"
      ]
    },
    {
      "cell_type": "code",
      "source": [
        "# Invoice\n",
        "print(\"                   BILL\")\n",
        "burger_large = 99\n",
        "pizza_medium = 350\n",
        "sandwich = 150\n",
        "redsauce_pasta = 199\n",
        "combo_burger_sandwich = 230\n",
        "total = burger_large + pizza_medium + sandwich + redsauce_pasta +combo_burger_sandwich\n",
        "print(\"Total :\",total)\n",
        "discount1 = float(10)\n",
        "final = total*discount1/100\n",
        "print(\"Discount  : \",final)\n",
        "total1 = total-final\n",
        "print(\"You have to pay after discount : \",total1)\n",
        "print(\"-------------Have A Nice Day-------------\")"
      ],
      "metadata": {
        "colab": {
          "base_uri": "https://localhost:8080/"
        },
        "id": "bvAgn68bBz4h",
        "outputId": "60aa7e65-263d-477f-922f-86e40d3a83b2"
      },
      "execution_count": 41,
      "outputs": [
        {
          "output_type": "stream",
          "name": "stdout",
          "text": [
            "                   BILL\n",
            "Total : 1028\n",
            "Discount  :  102.8\n",
            "You have to pay after discount :  925.2\n",
            "-------------Have A Nice Day-------------\n"
          ]
        }
      ]
    }
  ]
}