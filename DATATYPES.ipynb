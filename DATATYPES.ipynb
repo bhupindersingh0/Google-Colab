{
  "nbformat": 4,
  "nbformat_minor": 0,
  "metadata": {
    "colab": {
      "provenance": [],
      "authorship_tag": "ABX9TyM3bsASQ9MVtdxVYf9X5TH7",
      "include_colab_link": true
    },
    "kernelspec": {
      "name": "python3",
      "display_name": "Python 3"
    },
    "language_info": {
      "name": "python"
    }
  },
  "cells": [
    {
      "cell_type": "markdown",
      "metadata": {
        "id": "view-in-github",
        "colab_type": "text"
      },
      "source": [
        "<a href=\"https://colab.research.google.com/github/bhupindersingh0/Google-Colab/blob/main/DATATYPES.ipynb\" target=\"_parent\"><img src=\"https://colab.research.google.com/assets/colab-badge.svg\" alt=\"Open In Colab\"/></a>"
      ]
    },
    {
      "cell_type": "code",
      "execution_count": null,
      "metadata": {
        "colab": {
          "base_uri": "https://localhost:8080/"
        },
        "id": "G-KFO11J5KYk",
        "outputId": "5957ddcb-2c06-4e89-ca38-863890e77c7d"
      },
      "outputs": [
        {
          "output_type": "stream",
          "name": "stdout",
          "text": [
            "enter the first number : 100\n",
            "enter the second number : 50\n",
            "Sum of two number :  150\n",
            "Subtraction of two number :  50\n",
            "Multiplication of two number :  5000\n",
            "Division of two number :  2.0\n",
            "Remainder of two number :  0\n"
          ]
        }
      ],
      "source": [
        "\n",
        "first_number = int(input(\"enter the first number : \"))\n",
        "\n",
        "Second_number =  int(input(\"enter the second number : \"))\n",
        "add = first_number + Second_number\n",
        "sub = first_number - Second_number\n",
        "Multiply = first_number * Second_number\n",
        "Divide = first_number / Second_number\n",
        "remainder = first_number % Second_number\n",
        "print(\"Sum of two number : \",add  ,)\n",
        "print(\"Subtraction of two number : \",sub)\n",
        "print(\"Multiplication of two number : \",Multiply)\n",
        "print(\"Division of two number : \",Divide)\n",
        "print(\"Remainder of two number : \",remainder)\n"
      ]
    },
    {
      "cell_type": "code",
      "source": [
        "# Invoice\n",
        "print(\"                   BILL\")\n",
        "burger_large = 99\n",
        "pizza_medium = 350\n",
        "sandwich = 150\n",
        "redsauce_pasta = 199\n",
        "combo_burger_sandwich = 230\n",
        "total = burger_large*2 + pizza_medium + sandwich*4 + redsauce_pasta*4 +combo_burger_sandwich*3\n",
        "print(\"Total :\",total)\n",
        "discount1 = float(30)\n",
        "final = total*discount1/100\n",
        "print(\"Discount  : \",final)\n",
        "total1 = total-final\n",
        "print(\"You have to pay after discount : \",total1)\n",
        "print(\"-------------Have A Nice Day-------------\")"
      ],
      "metadata": {
        "colab": {
          "base_uri": "https://localhost:8080/"
        },
        "id": "bvAgn68bBz4h",
        "outputId": "44a2b37f-d66e-4f43-ecba-2a922a554750"
      },
      "execution_count": null,
      "outputs": [
        {
          "output_type": "stream",
          "name": "stdout",
          "text": [
            "                   BILL\n",
            "Total : 2634\n",
            "Discount  :  790.2\n",
            "You have to pay after discount :  1843.8\n",
            "-------------Have A Nice Day-------------\n"
          ]
        }
      ]
    },
    {
      "cell_type": "code",
      "source": [
        "print(\"Welcome To XYZ Bank\")\n",
        "\n",
        "# Intial Balance\n",
        "Amount = int(10000)\n",
        "print(\"OPENING BALANCE : \",Amount )\n",
        "\n",
        "#Deposit\n",
        "Transaction1 =int(input(\"Deposit : \"))\n",
        "\n",
        "# Balance after deposit\n",
        "Bal1 = Amount + Transaction1\n",
        "print(\"CURRENT BALANCE : \",Bal1)\n",
        "\n",
        "#Withdraw\n",
        "Transaction2 =int(input(\"Withdraw \"))\n",
        "\n",
        "# Balance after Withdraw\n",
        "Bal2 = Bal1 - Transaction2\n",
        "\n",
        "# Total Balance\n",
        "print(\"TOTAL BALANCE : \",Bal2)\n",
        "\n",
        "\n",
        "\n"
      ],
      "metadata": {
        "colab": {
          "base_uri": "https://localhost:8080/"
        },
        "id": "MHD9rqZZPfpd",
        "outputId": "f08a039a-03e1-4c5d-b942-5bb6534d4e0d"
      },
      "execution_count": null,
      "outputs": [
        {
          "output_type": "stream",
          "name": "stdout",
          "text": [
            "Welcome To XYZ Bank\n",
            "OPENING BALANCE :  10000\n",
            "Deposit : 5000\n",
            "CURRENT BALANCE :  15000\n",
            "Withdraw 4000\n",
            "TOTAL BALANCE :  11000\n"
          ]
        }
      ]
    },
    {
      "cell_type": "code",
      "source": [
        "\"\"\"Pant = int(1500)\n",
        "QuantityP = int(input(\"Quantity of Pant : \"))\n",
        "Total =Pant * Quantity\n",
        "Shirt = int(1200)\n",
        "QuantityS = int(input(\"Quantity of Shirt : \"))\n",
        "Total2 =Shirt * Quantity\n",
        "Belt = int(600)\n",
        "QuantityB = int(input(\"Quantity of Belt: \"))\n",
        "Total3 =Belt * Quantity\n",
        "Shoe = int(2500)\n",
        "QuantityS = int(input(\"Quantity of Shoe : \"))\n",
        "Total4 =Shoe * Quantity\n",
        "\n",
        "\n",
        "\n",
        "# Calculate discounts\n",
        "\n",
        "\n",
        "Discount12 = Total * 10 / 100\n",
        "Discount22 = Total2 * 20 / 100\n",
        "Discount23 = Total3 * 15 /100\n",
        "Discount23 = Total3 * 5 /100\n",
        "\n",
        "\n",
        "\n",
        "# Calculate the total cart price after discounts\n",
        "Cart = (Total - Discount12) + (Total2 - Discount22) + (Total3 - Discount23) + (Total4 - Discount22)\n",
        "Discount = Cart * 10/100\n",
        "print(\"Discount_coupon_code = 10%\")\n",
        "print(\"Rs : \",Cart)\"\"\"\n",
        "\n",
        "\n",
        "\n",
        "print(\"Address\")\n",
        "\n",
        "House = input(\"House No. :\")\n",
        "Locality = input(\"Locality : \")\n",
        "City = input(\"City : \")\n",
        "District = input(\"District : \")\n",
        "Pincode = int(input(\"Pincode : \"))\n",
        "State = input(\"State : \")\n",
        "Mobile_No = int(input(\"Mobile No. : \"))\n",
        "Email_id = input(\"Email ID :\")\n"
      ],
      "metadata": {
        "colab": {
          "base_uri": "https://localhost:8080/"
        },
        "id": "MLoXTJybH6g4",
        "outputId": "df7e99e4-e77d-472e-bad7-98333a7f6609"
      },
      "execution_count": null,
      "outputs": [
        {
          "metadata": {
            "tags": null
          },
          "name": "stdout",
          "output_type": "stream",
          "text": [
            "Address\n"
          ]
        }
      ]
    },
    {
      "cell_type": "code",
      "source": [
        "Pant = int(input(\"Price of Pant : \"))\n",
        "Quantity = int\n",
        "Shirt = int(input(\"Price of Shirt : \"))\n",
        "Belt = int(input(\"Price of Belt : \"))\n",
        "Shoe = int(input(\"Price of Shoe : \"))\n",
        "\n",
        "\"\"\"print(Pant)\n",
        "print(Shirt)\n",
        "print(Belt)\n",
        "print(Shoe)\"\"\"\n",
        "\n",
        "# Calculate discounts\n",
        "Discount12 = Pant * 10 / 100\n",
        "Discount22 = Shoe * 20 / 100\n",
        "\n",
        "\"\"\"print(Discount12)\n",
        "print(Discount22)\"\"\"\n",
        "\n",
        "# Calculate the total cart price after discounts\n",
        "Cart = (Pant - Discount12) + Shirt + Belt + (Shoe - Discount22)\n",
        "print(\"Rs : \",Cart)"
      ],
      "metadata": {
        "colab": {
          "base_uri": "https://localhost:8080/"
        },
        "id": "FI-UPc4DD2hQ",
        "outputId": "0d376358-71ea-4d41-c1a6-45923c92c389"
      },
      "execution_count": null,
      "outputs": [
        {
          "output_type": "stream",
          "name": "stdout",
          "text": [
            "Price of Pant : 800\n",
            "Price of Shirt : 700\n",
            "Price of Belt : 400\n",
            "Price of Shoe : 500\n",
            "Rs :  2220.0\n"
          ]
        }
      ]
    },
    {
      "cell_type": "code",
      "source": [
        "print(\"Barista\")"
      ],
      "metadata": {
        "id": "MKQKCKhtTyQA"
      },
      "execution_count": null,
      "outputs": []
    }
  ]
}