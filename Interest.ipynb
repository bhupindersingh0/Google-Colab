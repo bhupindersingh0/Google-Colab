{
  "nbformat": 4,
  "nbformat_minor": 0,
  "metadata": {
    "colab": {
      "provenance": [],
      "authorship_tag": "ABX9TyMGCH9+ebAQ6uMfbgzhibTX",
      "include_colab_link": true
    },
    "kernelspec": {
      "name": "python3",
      "display_name": "Python 3"
    },
    "language_info": {
      "name": "python"
    }
  },
  "cells": [
    {
      "cell_type": "markdown",
      "metadata": {
        "id": "view-in-github",
        "colab_type": "text"
      },
      "source": [
        "<a href=\"https://colab.research.google.com/github/bhupindersingh0/Google-Colab/blob/main/Interest.ipynb\" target=\"_parent\"><img src=\"https://colab.research.google.com/assets/colab-badge.svg\" alt=\"Open In Colab\"/></a>"
      ]
    },
    {
      "cell_type": "code",
      "execution_count": null,
      "metadata": {
        "colab": {
          "base_uri": "https://localhost:8080/"
        },
        "id": "KML-rbMk2mY8",
        "outputId": "89e71b16-3330-4188-be26-6f20743c1878"
      },
      "outputs": [
        {
          "output_type": "stream",
          "name": "stdout",
          "text": [
            "Principle : 10000\n",
            "Rate : 5\n",
            "month :5\n",
            "days :20\n",
            "2833.333333333334\n",
            "12833.333333333334\n"
          ]
        }
      ],
      "source": [
        "p = float(input(\"Principle : \"))\n",
        "r = float(input(\"Rate : \"))\n",
        "month = float(input(\"month :\"))\n",
        "days =  float(input(\"days :\"))\n",
        "t = (month*30 + days)/30\n",
        "si = (p*r*t)/100\n",
        "print(si)\n",
        "amount = si + p\n",
        "print(amount)\n"
      ]
    },
    {
      "cell_type": "code",
      "source": [
        "year = int(input(\"Year : \"))\n",
        "\n",
        "if year%4 == 0 or year%400 == 0:\n",
        "  print(\"leap year\")\n",
        "else:\n",
        "  print(\"Normal Year\")"
      ],
      "metadata": {
        "colab": {
          "base_uri": "https://localhost:8080/"
        },
        "id": "FfuPt_Ee99Pk",
        "outputId": "f1a6572c-c708-4290-bc01-9f0997bc400f"
      },
      "execution_count": null,
      "outputs": [
        {
          "output_type": "stream",
          "name": "stdout",
          "text": [
            "Year : 2033\n",
            "Normal Year\n"
          ]
        }
      ]
    },
    {
      "cell_type": "code",
      "source": [
        "year = int(input(\"Year : \"))\n",
        "if year % 4 == 0:\n",
        "  print(\"I leap year\")\n",
        "  if year % 100 != 0:\n",
        "    print(\"II leap year\")\n",
        "    if year % 400 == 0:\n",
        "      print(\"III leap year\")\n",
        "    else:\n",
        "        print(\"III not leap year\")\n",
        "  else:\n",
        "      print(\"II not leap year\")\n",
        "else:\n",
        "  print(\"II nt leap year\")\n"
      ],
      "metadata": {
        "colab": {
          "base_uri": "https://localhost:8080/"
        },
        "id": "7OhhlxQEANRD",
        "outputId": "0b6dc019-35e5-44c1-fb6d-0c3bc5590345"
      },
      "execution_count": null,
      "outputs": [
        {
          "output_type": "stream",
          "name": "stdout",
          "text": [
            "Year : 2500\n",
            "I leap year\n",
            "II leap year\n",
            "III not leap year\n"
          ]
        }
      ]
    },
    {
      "cell_type": "code",
      "source": [
        "year = int(input(\"Year : \"))\n",
        "if year % 4 == 0:\n",
        "\n",
        "  if year % 100 == 0:\n",
        "\n",
        "    if year % 400 == 0:\n",
        "      print(\"three condition right\")\n",
        "    else:\n",
        "       print((\"II leap not year\"))\n",
        "  else:\n",
        "\n",
        "    print(\"year leap\")\n",
        "\n",
        "else:\n",
        "  print(\"year is not leap\")\n",
        "\n"
      ],
      "metadata": {
        "id": "mEnVAOWGDACX"
      },
      "execution_count": null,
      "outputs": []
    },
    {
      "cell_type": "code",
      "source": [
        "principle = float(input(\"Principle : \"))\n",
        "rate = float(input(\"rate : \"))\n",
        "month =  int(input(\"month : \"))\n",
        "year = int(input(\"year : \"))\n",
        "\n",
        "simpleinterest = (principle*rate*month/12)/100\n",
        "if month == \"1\" or \"3\" or \"5\" or \"7\" or \"8\" or \"10\" or \"12\":\n",
        "  month = 31\n",
        "  print(simpleinterest)\n",
        "elif month == \"4\" or \"6\" or \"9\" or \"11\":\n",
        "    month = 30\n",
        "    print(simpleinterest)\n",
        "elif month == \"2\" :\n",
        "\n",
        "  if year % 4 == 0 and year % 100 != 0 or year % 400 == 0:\n",
        "    month = 29\n",
        "    print(simpleinterest)\n",
        "  else:\n",
        "      month = 28\n"
      ],
      "metadata": {
        "colab": {
          "base_uri": "https://localhost:8080/"
        },
        "id": "HjQgAY3MDzRO",
        "outputId": "2e56b826-84a0-41a8-9f42-8cb4d82c9b23"
      },
      "execution_count": null,
      "outputs": [
        {
          "output_type": "stream",
          "name": "stdout",
          "text": [
            "Principle : 1000\n",
            "rate : 56\n",
            "month : 3\n",
            "year : 2025\n",
            "140.0\n"
          ]
        }
      ]
    },
    {
      "cell_type": "code",
      "source": [
        "print(\"Compound Interest\")\n",
        "p = int(input(\"principle : \"))\n",
        "r = float(input(\"Rate : \"))\n",
        "t = float(input(\"Time : \"))\n",
        "n = float(input(\"No. of month : \"))\n",
        "A = p*(1+(r/100)/n)**(n*t)\n",
        "print(\"Amount : \",A)\n",
        "compound_interest = A - p\n",
        "print(\"Compound interest is : \",compound_interest)"
      ],
      "metadata": {
        "colab": {
          "base_uri": "https://localhost:8080/"
        },
        "id": "FH-aVhkyV2PF",
        "outputId": "4d002a1d-0b55-4463-8109-926185ef0f8b"
      },
      "execution_count": null,
      "outputs": [
        {
          "output_type": "stream",
          "name": "stdout",
          "text": [
            "Compound Interest\n",
            "principle : 1000\n",
            "Rate : 10\n",
            "Time : 2\n",
            "No. of month : 3\n",
            "Amount :  1217.4261742112492\n",
            "Compound interest is :  217.4261742112492\n"
          ]
        }
      ]
    },
    {
      "cell_type": "code",
      "source": [
        "A = 9.00\n",
        "B = int(A)\n",
        "c = str(A)\n",
        "print(B)\n",
        "print(c)\n"
      ],
      "metadata": {
        "colab": {
          "base_uri": "https://localhost:8080/"
        },
        "id": "Y1em9DdAIvwM",
        "outputId": "6cbbec5c-3841-4980-e51d-7ebc3827d12b"
      },
      "execution_count": null,
      "outputs": [
        {
          "output_type": "stream",
          "name": "stdout",
          "text": [
            "9\n",
            "9.0\n"
          ]
        }
      ]
    },
    {
      "cell_type": "code",
      "source": [],
      "metadata": {
        "id": "LKBzUL59vglV"
      },
      "execution_count": null,
      "outputs": []
    }
  ]
}