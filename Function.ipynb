{
  "nbformat": 4,
  "nbformat_minor": 0,
  "metadata": {
    "colab": {
      "provenance": [],
      "authorship_tag": "ABX9TyOalfI8mIl31t333e9ndoLz",
      "include_colab_link": true
    },
    "kernelspec": {
      "name": "python3",
      "display_name": "Python 3"
    },
    "language_info": {
      "name": "python"
    }
  },
  "cells": [
    {
      "cell_type": "markdown",
      "metadata": {
        "id": "view-in-github",
        "colab_type": "text"
      },
      "source": [
        "<a href=\"https://colab.research.google.com/github/bhupindersingh0/Google-Colab/blob/main/Function.ipynb\" target=\"_parent\"><img src=\"https://colab.research.google.com/assets/colab-badge.svg\" alt=\"Open In Colab\"/></a>"
      ]
    },
    {
      "cell_type": "code",
      "execution_count": null,
      "metadata": {
        "colab": {
          "base_uri": "https://localhost:8080/"
        },
        "id": "KkB_GOTnOERu",
        "outputId": "a5a27e18-2e86-4983-e066-8272e490c9d3"
      },
      "outputs": [
        {
          "output_type": "stream",
          "name": "stdout",
          "text": [
            "Hello World\n"
          ]
        }
      ],
      "source": [
        "def xyz():\n",
        "  print(\"Hello World\")\n",
        "xyz()"
      ]
    },
    {
      "cell_type": "code",
      "source": [
        "def add(a,b):\n",
        "  return (a+b)\n",
        "x = add(10,30)\n",
        "y = add(60,50)\n",
        "print(x,y)"
      ],
      "metadata": {
        "colab": {
          "base_uri": "https://localhost:8080/"
        },
        "id": "nnLTQpXU2zmu",
        "outputId": "67debe9f-96cf-48ff-b8da-330e376be9ba"
      },
      "execution_count": null,
      "outputs": [
        {
          "output_type": "stream",
          "name": "stdout",
          "text": [
            "40 110\n"
          ]
        }
      ]
    },
    {
      "cell_type": "code",
      "source": [
        "def bio_data():\n",
        "  name = \"Bhupinder Singh\"\n",
        "  salary = 100000\n",
        "  address = \"Barnala\"\n",
        "  print(\"Name : \",name)\n",
        "  print(\"Salary : \",salary)\n",
        "  print(\"Address : \",address)\n",
        "bio_data()"
      ],
      "metadata": {
        "colab": {
          "base_uri": "https://localhost:8080/"
        },
        "id": "dU-LuYw64FOK",
        "outputId": "e5264b2a-ed67-499e-c218-1c224c1f1e7a"
      },
      "execution_count": null,
      "outputs": [
        {
          "output_type": "stream",
          "name": "stdout",
          "text": [
            "Name :  Bhupinder Singh\n",
            "Salary :  100000\n",
            "Address :  Barnala\n"
          ]
        }
      ]
    },
    {
      "cell_type": "code",
      "source": [
        "def add():\n",
        "   sum = 0\n",
        "   for i in range(0,11):\n",
        "     sum = sum + i\n",
        "     print(sum)\n",
        "add()"
      ],
      "metadata": {
        "colab": {
          "base_uri": "https://localhost:8080/"
        },
        "id": "_8-2RrtL7JI6",
        "outputId": "3f311612-e5b6-47a4-ae12-fb6fd4daf80c"
      },
      "execution_count": null,
      "outputs": [
        {
          "output_type": "stream",
          "name": "stdout",
          "text": [
            "0\n",
            "1\n",
            "3\n",
            "6\n",
            "10\n",
            "15\n",
            "21\n",
            "28\n",
            "36\n",
            "45\n",
            "55\n"
          ]
        }
      ]
    },
    {
      "cell_type": "code",
      "source": [
        "def add(n):\n",
        "   sum = 0\n",
        "   for i in range(0,n+1):\n",
        "      sum = sum + i\n",
        "   print(sum)\n",
        "\n",
        "add(55)\n"
      ],
      "metadata": {
        "colab": {
          "base_uri": "https://localhost:8080/"
        },
        "id": "zAaFaed28cdP",
        "outputId": "8d6dd0ca-4f7c-4aea-80af-07ee81fdb7f1"
      },
      "execution_count": null,
      "outputs": [
        {
          "output_type": "stream",
          "name": "stdout",
          "text": [
            "1540\n"
          ]
        }
      ]
    },
    {
      "cell_type": "code",
      "source": [
        "def fib(n):\n",
        "     first = 0\n",
        "     second = 1\n",
        "     for i in range (0,n+1):\n",
        "      third = first + second\n",
        "      first = second\n",
        "      second = third\n",
        "      print(third)\n",
        "fib(15)\n",
        "\n",
        "\n",
        "\n"
      ],
      "metadata": {
        "colab": {
          "base_uri": "https://localhost:8080/"
        },
        "id": "4QWoDlnI-7KV",
        "outputId": "b75fe1cb-270f-4587-f0c1-6276a795fceb"
      },
      "execution_count": null,
      "outputs": [
        {
          "output_type": "stream",
          "name": "stdout",
          "text": [
            "1\n",
            "2\n",
            "3\n",
            "5\n",
            "8\n",
            "13\n",
            "21\n",
            "34\n",
            "55\n",
            "89\n",
            "144\n",
            "233\n",
            "377\n",
            "610\n",
            "987\n",
            "1597\n"
          ]
        }
      ]
    },
    {
      "cell_type": "code",
      "source": [
        "def fact(n):\n",
        "  factorial1 = 1\n",
        "  for i in range(1,n+1):\n",
        "    factorial1 = factorial1*i\n",
        "  print(factorial1)\n",
        "fact(10)"
      ],
      "metadata": {
        "colab": {
          "base_uri": "https://localhost:8080/"
        },
        "id": "ssbvFFOLDLJw",
        "outputId": "b12ece8e-fcb4-4877-e0d5-4d565e6e995a"
      },
      "execution_count": null,
      "outputs": [
        {
          "output_type": "stream",
          "name": "stdout",
          "text": [
            "3628800\n"
          ]
        }
      ]
    },
    {
      "cell_type": "code",
      "source": [
        "def Si():\n",
        "  p = 1000\n",
        "  r = 10\n",
        "  t = 2\n",
        "  a = (p*r*t)/100\n",
        "  print(a)\n",
        "Si()"
      ],
      "metadata": {
        "colab": {
          "base_uri": "https://localhost:8080/"
        },
        "id": "81eqpGTwCxVL",
        "outputId": "14f58bf0-b82d-4f43-ee0e-408658978061"
      },
      "execution_count": null,
      "outputs": [
        {
          "output_type": "stream",
          "name": "stdout",
          "text": [
            "200.0\n"
          ]
        }
      ]
    },
    {
      "cell_type": "code",
      "source": [
        "def fact(n):\n",
        "  sum = 0\n",
        "  factorial1 = 1\n",
        "  for i in range(1,n+1,2):\n",
        "      for j in range(1,i+1):\n",
        "       factorial1 = factorial1*j\n",
        "      print(factorial1)\n",
        "  sum = sum + factorial1\n",
        "  print(sum)\n",
        "fact(8)"
      ],
      "metadata": {
        "colab": {
          "base_uri": "https://localhost:8080/"
        },
        "id": "z7K0zIDJCaN0",
        "outputId": "7c163901-ba26-4d88-e63e-56fe7d6fcfe7"
      },
      "execution_count": 44,
      "outputs": [
        {
          "output_type": "stream",
          "name": "stdout",
          "text": [
            "1\n",
            "6\n",
            "720\n",
            "3628800\n",
            "3628800\n"
          ]
        }
      ]
    },
    {
      "cell_type": "code",
      "source": [
        "def add_num(*item):\n",
        "   return sum(item)\n",
        "print(add_num(6,5))"
      ],
      "metadata": {
        "colab": {
          "base_uri": "https://localhost:8080/"
        },
        "id": "cpT9RtKZRSnT",
        "outputId": "d03373ab-21a9-4af0-8ac2-3950ad15c6f4"
      },
      "execution_count": 54,
      "outputs": [
        {
          "output_type": "stream",
          "name": "stdout",
          "text": [
            "11\n"
          ]
        }
      ]
    },
    {
      "cell_type": "code",
      "source": [
        "def add(*args):\n",
        "  sum = 0\n",
        "  for i in args:\n",
        "    sum = sum + i\n",
        "  print(sum)\n",
        "\n",
        "add(1,4,100,5246,99526)"
      ],
      "metadata": {
        "colab": {
          "base_uri": "https://localhost:8080/"
        },
        "id": "N45Vp45TSmxg",
        "outputId": "36bbc1e4-d1ae-40f5-fc2c-7cbfcae185eb"
      },
      "execution_count": 76,
      "outputs": [
        {
          "output_type": "stream",
          "name": "stdout",
          "text": [
            "104877\n"
          ]
        }
      ]
    },
    {
      "cell_type": "code",
      "source": [
        "def add(**kwargs):\n",
        "  for key,value in kwargs.items():\n",
        "    print(kwargs)\n",
        "add(a=\"Bhupinder Singh\", age = 21, village = \"Bhure\" )"
      ],
      "metadata": {
        "colab": {
          "base_uri": "https://localhost:8080/"
        },
        "id": "h4mU6FxnL_s9",
        "outputId": "86148cde-714d-45c0-b45a-1e64c8cb0a73"
      },
      "execution_count": 2,
      "outputs": [
        {
          "output_type": "stream",
          "name": "stdout",
          "text": [
            "{'a': 'Bhupinder Singh', 'age': 21, 'village': 'Bhure'}\n",
            "{'a': 'Bhupinder Singh', 'age': 21, 'village': 'Bhure'}\n",
            "{'a': 'Bhupinder Singh', 'age': 21, 'village': 'Bhure'}\n"
          ]
        }
      ]
    },
    {
      "cell_type": "code",
      "source": [
        "a = 10\n",
        "b = 20\n",
        "print(f\"Sum of {a} and {b} : is {a+b}\")"
      ],
      "metadata": {
        "id": "CUPv4ByuOhpe"
      },
      "execution_count": null,
      "outputs": []
    },
    {
      "cell_type": "code",
      "source": [
        "def leap_y():\n",
        "\n",
        "  principle = int(input(\"Enter principle\"))\n",
        "  rate = int(input(\"Enter rate\"))\n",
        "  t = int(input(\"Enter time\"))\n",
        "  si = (p*r*t)/100\n",
        "  year = int(input(\"Enter Year\"))1\n",
        "\n",
        "  if year % 4 == 0 and year % 100 != 0 or year % 400 == 0:\n",
        "    print(\"this leap year\")\n",
        "leap_y()"
      ],
      "metadata": {
        "id": "MBurSoSwVJxC"
      },
      "execution_count": null,
      "outputs": []
    }
  ]
}