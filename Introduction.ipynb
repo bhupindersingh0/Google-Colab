{
  "nbformat": 4,
  "nbformat_minor": 0,
  "metadata": {
    "colab": {
      "provenance": [],
      "authorship_tag": "ABX9TyMm41ICX+COOzWu6+F5phVD",
      "include_colab_link": true
    },
    "kernelspec": {
      "name": "python3",
      "display_name": "Python 3"
    },
    "language_info": {
      "name": "python"
    }
  },
  "cells": [
    {
      "cell_type": "markdown",
      "metadata": {
        "id": "view-in-github",
        "colab_type": "text"
      },
      "source": [
        "<a href=\"https://colab.research.google.com/github/bhupindersingh0/Google-Colab/blob/main/Introduction.ipynb\" target=\"_parent\"><img src=\"https://colab.research.google.com/assets/colab-badge.svg\" alt=\"Open In Colab\"/></a>"
      ]
    },
    {
      "cell_type": "code",
      "execution_count": 24,
      "metadata": {
        "colab": {
          "base_uri": "https://localhost:8080/"
        },
        "id": "WvfBFEkTz6MU",
        "outputId": "12069dd3-4f58-48dd-fc94-fd0d5fef2185"
      },
      "outputs": [
        {
          "output_type": "stream",
          "name": "stdout",
          "text": [
            " My Name is : Bhupinder Singh \n",
            " Village : Bhure, Distt. Barnala, Punjab \n",
            " Qualification : B.tech(IT) \n",
            " CGPA : 8.23 \n",
            " Age : 22 \n",
            " Height : 178cm\n",
            " Contact No. : 7087951604\n",
            " Email ID : bhupinder.sohal07@gmail.com\n",
            " My age is : 22\n"
          ]
        }
      ],
      "source": [
        "print(\" My Name is : Bhupinder Singh \\n Village : Bhure, Distt. Barnala, Punjab \\n Qualification : B.tech(IT) \\n CGPA : 8.23 \\n Age : 22 \\n Height : 178cm\")\n",
        "print(\" Contact No. : 7087951604\")\n",
        "print(\" Email ID : bhupinder.sohal07@gmail.com\")\n",
        "a = 22\n",
        "print(\" My age is :\",a)"
      ]
    },
    {
      "cell_type": "code",
      "source": [
        "print(\" The five most populated states in India are : \\n 1. Uttar Pradesh    19,98,12,341 \\n 2. Maharashtra      11,23,74,333 \\n 3. Bihar            10,40,99,452 \\n 4. West Bengal      9,12,76 ,115 \\n 5. Madhya Pradesh   8,12,76,115\")"
      ],
      "metadata": {
        "colab": {
          "base_uri": "https://localhost:8080/"
        },
        "id": "YZf246hJ9DWP",
        "outputId": "1fa702e2-72ae-4130-b4ca-c417dd0a4aec"
      },
      "execution_count": 29,
      "outputs": [
        {
          "output_type": "stream",
          "name": "stdout",
          "text": [
            " The five most populated states in India are : \n",
            " 1. Uttar Pradesh    19,98,12,341 \n",
            " 2. Maharashtra      11,23,74,333 \n",
            " 3. Bihar            10,40,99,452 \n",
            " 4. West Bengal      9,12,76 ,115 \n",
            " 5. Madhya Pradesh   8,12,76,115\n"
          ]
        }
      ]
    },
    {
      "cell_type": "code",
      "source": [
        "a = \"Bhupinder\"\n",
        "b = \" Sohal\"\n",
        "c = a + b\n",
        "print (c)\n",
        "\n",
        "\n",
        "x = 10\n",
        "y = 20\n",
        "z = x + y\n",
        "print(z)\n"
      ],
      "metadata": {
        "colab": {
          "base_uri": "https://localhost:8080/"
        },
        "id": "g8ac5mN3_QRB",
        "outputId": "259a0f12-8689-4c5e-da72-eb837a02dc8d"
      },
      "execution_count": 34,
      "outputs": [
        {
          "output_type": "stream",
          "name": "stdout",
          "text": [
            "Bhupinder Sohal\n",
            "30\n"
          ]
        }
      ]
    },
    {
      "cell_type": "code",
      "source": [
        "print(\"Bank Statement\")\n",
        "\n",
        "print(\" Date | Details | Withdrawals | \")"
      ],
      "metadata": {
        "colab": {
          "base_uri": "https://localhost:8080/"
        },
        "id": "PD0NZlggALkm",
        "outputId": "5e79419a-18ef-4d63-a017-a6bd3f0bf05a"
      },
      "execution_count": 35,
      "outputs": [
        {
          "output_type": "stream",
          "name": "stdout",
          "text": [
            "Bank Statement\n"
          ]
        }
      ]
    }
  ]
}